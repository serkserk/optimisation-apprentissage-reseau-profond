{
 "cells": [
  {
   "cell_type": "code",
   "execution_count": 1,
   "metadata": {},
   "outputs": [],
   "source": [
    "from tensorflow.examples.tutorials.mnist import input_data\n",
    "import tensorflow as tf\n",
    "import matplotlib.pyplot as plt\n",
    "import numpy as np\n",
    "import random as ran\n",
    "import pandas as pd\n",
    "from sklearn.model_selection import train_test_split"
   ]
  },
  {
   "cell_type": "code",
   "execution_count": 3,
   "metadata": {},
   "outputs": [
    {
     "name": "stdout",
     "output_type": "stream",
     "text": [
      "Number of samples in training set :  159\n",
      "Number of samples in test set :  54\n"
     ]
    }
   ],
   "source": [
    "jaffe_X = pd.read_csv(\"jaffeX.csv\",delimiter=\";\")\n",
    "jaffe_y = pd.read_csv(\"jaffeY.csv\",delimiter=\";\")\n",
    "\n",
    "jaffe_y = pd.get_dummies(jaffe_y.values.reshape([jaffe_y.shape[1]])).values +0.\n",
    "jaffe_X = jaffe_X.values/255\n",
    "\n",
    "# RANDOM SPLIT JAFFE DATASET\n",
    "\n",
    "X_train, X_test, y_train, y_test = train_test_split( jaffe_X, jaffe_y, test_size=0.25, random_state=42)\n",
    "\n",
    "print(\"Number of samples in training set : \",X_train.shape[0])\n",
    "print(\"Number of samples in test set : \",X_test.shape[0])"
   ]
  },
  {
   "cell_type": "code",
   "execution_count": 32,
   "metadata": {},
   "outputs": [],
   "source": [
    "data = X_train.copy()\n",
    "\n",
    "m = data.mean(axis = 0 )\n",
    "\n",
    "cov = np.cov(data,rowvar=False)\n",
    "evals , evecs = np.linalg.eigh(cov)\n",
    "\n",
    "idx = np.argsort(evals)[::-1]\n",
    "R = evecs[:,idx][:,:100]\n",
    "inertia = evals[idx]\n",
    "\n",
    "Rm =np.dot(m,R)\n",
    "respca = np.dot(data, R) - Rm"
   ]
  },
  {
   "cell_type": "code",
   "execution_count": 33,
   "metadata": {
    "collapsed": true
   },
   "outputs": [
    {
     "data": {
      "image/png": "[encoded data removed]",
      "text/plain": [
       "<Figure size 432x288 with 1 Axes>"
      ]
     },
     "metadata": {},
     "output_type": "display_data"
    }
   ],
   "source": [
    "plt.plot(inertia)\n",
    "plt.show()"
   ]
  },
  {
   "cell_type": "code",
   "execution_count": 36,
   "metadata": {},
   "outputs": [],
   "source": [
    "# Second PCA\n",
    "\n",
    "data = respca.copy()\n",
    "m2 = data.mean(axis = 0 )\n",
    "\n",
    "cov = np.cov(data,rowvar=False)\n",
    "evals , evecs = np.linalg.eigh(cov)\n",
    "\n",
    "idx = np.argsort(evals)[::-1]\n",
    "R2 = evecs[:,idx][:,:50]\n",
    "inertia = evals[idx]\n",
    "\n",
    "Rm2 =np.dot(m2,R2)\n",
    "respca = np.dot(data, R2) - Rm2"
   ]
  },
  {
   "cell_type": "code",
   "execution_count": 76,
   "metadata": {},
   "outputs": [],
   "source": [
    "# CREATION DU RESEAU DE NEURONE\n",
    "\n",
    "sess.close()\n",
    "shape = 676\n",
    "sess = tf.Session()\n",
    "\n",
    "x = tf.placeholder(tf.float32, shape=[None, shape])\n",
    "\n",
    "# XAVIER INITIALIZER\n",
    "initializer =  tf.contrib.layers.xavier_initializer()\n",
    "\n",
    "# NORMAL DISTRIBUTION\n",
    "#initializer = tf.random_normal_initializer()\n",
    "\n",
    "# ZEROS INITIALIZER\n",
    "#initializer = tf.zeros\n",
    "\n",
    "\n",
    "W1 = tf.Variable(tf.constant(R.astype(\"float32\")))\n",
    "b1 = tf.Variable(tf.constant(-Rm.astype(\"float32\")))\n",
    "\n",
    "y1 = tf.nn.sigmoid(tf.add(tf.matmul(x,W1),b1))\n",
    "\n",
    "W2 = tf.Variable(tf.constant(R2.astype(\"float32\")))\n",
    "b2 = tf.Variable(tf.constant(-Rm2.astype(\"float32\")))\n",
    "\n",
    "y2 = tf.nn.sigmoid(tf.add(tf.matmul(y1,W2),b2))\n",
    "\n",
    "W3 = tf.Variable(np.zeros([50,10]).astype(\"float32\"))\n",
    "b3 = tf.Variable(np.zeros([10]).astype(\"float32\"))\n",
    "\n",
    "y = tf.nn.softmax(tf.add(tf.matmul(y2,W3),b3))\n",
    "\n",
    "y_ = tf.placeholder(tf.float32, shape=[None, 10])\n",
    "\n",
    "cross_entropy = -tf.reduce_mean(tf.reduce_sum(y_ * tf.log(y) + (1 - y_) * tf.log(1 - y), axis=1))\n",
    "\n",
    "\n",
    "\n",
    "LEARNING_RATE = 0.1\n",
    "\n",
    "training = tf.train.GradientDescentOptimizer(LEARNING_RATE).minimize(cross_entropy)\n",
    "\n",
    "correct_prediction = tf.equal(tf.argmax(y,1), tf.argmax(y_,1))\n",
    "accuracy = tf.reduce_mean(tf.cast(correct_prediction, tf.float32))\n",
    "\n",
    "sess.run(tf.global_variables_initializer())"
   ]
  },
  {
   "cell_type": "code",
   "execution_count": 77,
   "metadata": {},
   "outputs": [
    {
     "name": "stdout",
     "output_type": "stream",
     "text": [
      "epoch :  0 / 1000, accuracy :  0.074074075, loss :  3.2508307, \n",
      "epoch :  10 / 1000, accuracy :  0.074074075, loss :  3.2415323, \n",
      "epoch :  20 / 1000, accuracy :  0.074074075, loss :  3.2391, \n",
      "epoch :  30 / 1000, accuracy :  0.074074075, loss :  3.2368927, \n",
      "epoch :  40 / 1000, accuracy :  0.074074075, loss :  3.234667, \n",
      "epoch :  50 / 1000, accuracy :  0.074074075, loss :  3.2324054, \n",
      "epoch :  60 / 1000, accuracy :  0.074074075, loss :  3.230098, \n",
      "epoch :  70 / 1000, accuracy :  0.074074075, loss :  3.227738, \n",
      "epoch :  80 / 1000, accuracy :  0.074074075, loss :  3.2253184, \n",
      "epoch :  90 / 1000, accuracy :  0.074074075, loss :  3.222833, \n",
      "epoch :  100 / 1000, accuracy :  0.074074075, loss :  3.2202752, \n",
      "epoch :  110 / 1000, accuracy :  0.074074075, loss :  3.2176402, \n",
      "epoch :  120 / 1000, accuracy :  0.074074075, loss :  3.214922, \n",
      "epoch :  130 / 1000, accuracy :  0.074074075, loss :  3.2121158, \n",
      "epoch :  140 / 1000, accuracy :  0.074074075, loss :  3.2092144, \n",
      "epoch :  150 / 1000, accuracy :  0.09259259, loss :  3.2062128, \n",
      "epoch :  160 / 1000, accuracy :  0.12962963, loss :  3.203103, \n",
      "epoch :  170 / 1000, accuracy :  0.12962963, loss :  3.1998782, \n",
      "epoch :  180 / 1000, accuracy :  0.12962963, loss :  3.1965292, \n",
      "epoch :  190 / 1000, accuracy :  0.12962963, loss :  3.1930466, \n",
      "epoch :  200 / 1000, accuracy :  0.12962963, loss :  3.1894202, \n",
      "epoch :  210 / 1000, accuracy :  0.12962963, loss :  3.185638, \n",
      "epoch :  220 / 1000, accuracy :  0.12962963, loss :  3.181688, \n",
      "epoch :  230 / 1000, accuracy :  0.18518518, loss :  3.1775565, \n",
      "epoch :  240 / 1000, accuracy :  0.18518518, loss :  3.1732287, \n",
      "epoch :  250 / 1000, accuracy :  0.22222222, loss :  3.1686888, \n",
      "epoch :  260 / 1000, accuracy :  0.25925925, loss :  3.1639194, \n",
      "epoch :  270 / 1000, accuracy :  0.25925925, loss :  3.1589026, \n",
      "epoch :  280 / 1000, accuracy :  0.2777778, loss :  3.1536179, \n",
      "epoch :  290 / 1000, accuracy :  0.2777778, loss :  3.1480453, \n",
      "epoch :  300 / 1000, accuracy :  0.2962963, loss :  3.1421618, \n",
      "epoch :  310 / 1000, accuracy :  0.2962963, loss :  3.135943, \n",
      "epoch :  320 / 1000, accuracy :  0.2962963, loss :  3.129363, \n",
      "epoch :  330 / 1000, accuracy :  0.2962963, loss :  3.1223948, \n",
      "epoch :  340 / 1000, accuracy :  0.2962963, loss :  3.1150086, \n",
      "epoch :  350 / 1000, accuracy :  0.2962963, loss :  3.107174, \n",
      "epoch :  360 / 1000, accuracy :  0.2962963, loss :  3.0988576, \n",
      "epoch :  370 / 1000, accuracy :  0.2962963, loss :  3.0900254, \n",
      "epoch :  380 / 1000, accuracy :  0.2962963, loss :  3.0806406, \n",
      "epoch :  390 / 1000, accuracy :  0.2962963, loss :  3.0706651, \n",
      "epoch :  400 / 1000, accuracy :  0.2962963, loss :  3.06006, \n",
      "epoch :  410 / 1000, accuracy :  0.2962963, loss :  3.0487852, \n",
      "epoch :  420 / 1000, accuracy :  0.2962963, loss :  3.0367987, \n",
      "epoch :  430 / 1000, accuracy :  0.2962963, loss :  3.0240595, \n",
      "epoch :  440 / 1000, accuracy :  0.2962963, loss :  3.0105252, \n",
      "epoch :  450 / 1000, accuracy :  0.2962963, loss :  2.9961543, \n",
      "epoch :  460 / 1000, accuracy :  0.2962963, loss :  2.9809074, \n",
      "epoch :  470 / 1000, accuracy :  0.2962963, loss :  2.964746, \n",
      "epoch :  480 / 1000, accuracy :  0.2962963, loss :  2.9476342, \n",
      "epoch :  490 / 1000, accuracy :  0.2962963, loss :  2.9295404, \n",
      "epoch :  500 / 1000, accuracy :  0.2962963, loss :  2.910436, \n",
      "epoch :  510 / 1000, accuracy :  0.3148148, loss :  2.890298, \n",
      "epoch :  520 / 1000, accuracy :  0.3148148, loss :  2.8691092, \n",
      "epoch :  530 / 1000, accuracy :  0.3148148, loss :  2.8468583, \n",
      "epoch :  540 / 1000, accuracy :  0.3148148, loss :  2.82354, \n",
      "epoch :  550 / 1000, accuracy :  0.3148148, loss :  2.7991564, \n",
      "epoch :  560 / 1000, accuracy :  0.35185185, loss :  2.7737155, \n",
      "epoch :  570 / 1000, accuracy :  0.37037036, loss :  2.747231, \n",
      "epoch :  580 / 1000, accuracy :  0.37037036, loss :  2.719722, \n",
      "epoch :  590 / 1000, accuracy :  0.44444445, loss :  2.6912107, \n",
      "epoch :  600 / 1000, accuracy :  0.4814815, loss :  2.6617236, \n",
      "epoch :  610 / 1000, accuracy :  0.5, loss :  2.631287, \n",
      "epoch :  620 / 1000, accuracy :  0.5, loss :  2.5999277, \n",
      "epoch :  630 / 1000, accuracy :  0.5, loss :  2.5676718, \n",
      "epoch :  640 / 1000, accuracy :  0.5, loss :  2.5345435, \n",
      "epoch :  650 / 1000, accuracy :  0.5, loss :  2.500564, \n",
      "epoch :  660 / 1000, accuracy :  0.537037, loss :  2.465753, \n",
      "epoch :  670 / 1000, accuracy :  0.537037, loss :  2.4301271, \n",
      "epoch :  680 / 1000, accuracy :  0.5555556, loss :  2.3937018, \n",
      "epoch :  690 / 1000, accuracy :  0.5555556, loss :  2.3564923, \n",
      "epoch :  700 / 1000, accuracy :  0.6481481, loss :  2.3185134, \n",
      "epoch :  710 / 1000, accuracy :  0.6851852, loss :  2.2797835, \n",
      "epoch :  720 / 1000, accuracy :  0.6851852, loss :  2.2403207, \n",
      "epoch :  730 / 1000, accuracy :  0.7037037, loss :  2.2001486, \n",
      "epoch :  740 / 1000, accuracy :  0.7222222, loss :  2.1592934, \n",
      "epoch :  750 / 1000, accuracy :  0.7222222, loss :  2.117787, \n",
      "epoch :  760 / 1000, accuracy :  0.7222222, loss :  2.0756643, \n",
      "epoch :  770 / 1000, accuracy :  0.7962963, loss :  2.0329642, \n",
      "epoch :  780 / 1000, accuracy :  0.8148148, loss :  1.9897306, \n",
      "epoch :  790 / 1000, accuracy :  0.8148148, loss :  1.9460106, \n",
      "epoch :  800 / 1000, accuracy :  0.8148148, loss :  1.9018548, \n",
      "epoch :  810 / 1000, accuracy :  0.8333333, loss :  1.8573155, \n",
      "epoch :  820 / 1000, accuracy :  0.8518519, loss :  1.8124497, \n",
      "epoch :  830 / 1000, accuracy :  0.8518519, loss :  1.7673155, \n",
      "epoch :  840 / 1000, accuracy :  0.8703704, loss :  1.7219741, \n",
      "epoch :  850 / 1000, accuracy :  0.9074074, loss :  1.6764882, \n",
      "epoch :  860 / 1000, accuracy :  0.9074074, loss :  1.6309236, \n",
      "epoch :  870 / 1000, accuracy :  0.9074074, loss :  1.585348, \n",
      "epoch :  880 / 1000, accuracy :  0.9074074, loss :  1.5398308, \n",
      "epoch :  890 / 1000, accuracy :  0.9074074, loss :  1.4944435, \n",
      "epoch :  900 / 1000, accuracy :  0.9259259, loss :  1.4492594, \n",
      "epoch :  910 / 1000, accuracy :  0.9259259, loss :  1.4043527, \n",
      "epoch :  920 / 1000, accuracy :  0.9259259, loss :  1.3597986, \n",
      "epoch :  930 / 1000, accuracy :  0.9444444, loss :  1.3156728, \n",
      "epoch :  940 / 1000, accuracy :  0.962963, loss :  1.2720497, \n",
      "epoch :  950 / 1000, accuracy :  0.962963, loss :  1.2290034, \n",
      "epoch :  960 / 1000, accuracy :  0.962963, loss :  1.1866059, \n",
      "epoch :  970 / 1000, accuracy :  0.962963, loss :  1.1449265, \n",
      "epoch :  980 / 1000, accuracy :  0.962963, loss :  1.1040303, \n",
      "epoch :  990 / 1000, accuracy :  0.962963, loss :  1.0639787, \n"
     ]
    },
    {
     "data": {
      "image/png": "[encoded data removed]",
      "text/plain": [
       "<Figure size 432x288 with 1 Axes>"
      ]
     },
     "metadata": {},
     "output_type": "display_data"
    },
    {
     "data": {
      "image/png": "[encoded data removed]",
      "text/plain": [
       "<Figure size 432x288 with 1 Axes>"
      ]
     },
     "metadata": {},
     "output_type": "display_data"
    }
   ],
   "source": [
    "# TRAINING : \n",
    "\n",
    "acs = []\n",
    "ls = []\n",
    "\n",
    "number_of_epoch = 1000\n",
    "\n",
    "for i in range(number_of_epoch):\n",
    "    ac = sess.run(accuracy,feed_dict={x : X_test, y_ : y_test})\n",
    "    l = sess.run(cross_entropy,feed_dict={x : X_train, y_ : y_train})\n",
    "    sess.run(training,feed_dict={x : X_train, y_ : y_train})\n",
    "    acs.append(ac)\n",
    "    ls.append(l)\n",
    "    if(i%10 == 0):\n",
    "        print(\"epoch : \", i, \"/\", number_of_epoch, end=\", \")\n",
    "        print(\"accuracy : \" , ac, end=\", \")\n",
    "        print(\"loss : \",l , end=\", \")\n",
    "        print()\n",
    "        \n",
    "plt.plot(acs)\n",
    "plt.show()\n",
    "\n",
    "plt.plot(ls)\n",
    "plt.show()"
   ]
  },
  {
   "cell_type": "code",
   "execution_count": null,
   "metadata": {},
   "outputs": [],
   "source": []
  }
 ],
 "metadata": {
  "kernelspec": {
   "display_name": "Python 3",
   "language": "python",
   "name": "python3"
  },
  "language_info": {
   "codemirror_mode": {
    "name": "ipython",
    "version": 3
   },
   "file_extension": ".py",
   "mimetype": "text/x-python",
   "name": "python",
   "nbconvert_exporter": "python",
   "pygments_lexer": "ipython3",
   "version": "3.5.2"
  }
 },
 "nbformat": 4,
 "nbformat_minor": 2
}
