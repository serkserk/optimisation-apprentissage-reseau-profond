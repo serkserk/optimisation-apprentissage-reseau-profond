{
 "cells": [
  {
   "cell_type": "code",
   "execution_count": 1,
   "metadata": {},
   "outputs": [],
   "source": [
    "from tensorflow.examples.tutorials.mnist import input_data\n",
    "import tensorflow as tf\n",
    "import matplotlib.pyplot as plt\n",
    "import numpy as np\n",
    "import random as ran\n",
    "import pandas as pd\n",
    "from sklearn.model_selection import train_test_split"
   ]
  },
  {
   "cell_type": "code",
   "execution_count": 3,
   "metadata": {},
   "outputs": [
    {
     "name": "stdout",
     "output_type": "stream",
     "text": [
      "Number of samples in training set :  159\n",
      "Number of samples in test set :  54\n"
     ]
    }
   ],
   "source": [
    "jaffe_X = pd.read_csv(\"jaffeX.csv\",delimiter=\";\")\n",
    "jaffe_y = pd.read_csv(\"jaffeY.csv\",delimiter=\";\")\n",
    "\n",
    "jaffe_y = pd.get_dummies(jaffe_y.values.reshape([jaffe_y.shape[1]])).values +0.\n",
    "jaffe_X = jaffe_X.values/255\n",
    "\n",
    "# RANDOM SPLIT JAFFE DATASET\n",
    "\n",
    "X_train, X_test, y_train, y_test = train_test_split( jaffe_X, jaffe_y, test_size=0.25, random_state=42)\n",
    "\n",
    "print(\"Number of samples in training set : \",X_train.shape[0])\n",
    "print(\"Number of samples in test set : \",X_test.shape[0])"
   ]
  },
  {
   "cell_type": "code",
   "execution_count": 32,
   "metadata": {},
   "outputs": [],
   "source": [
    "data = X_train.copy()\n",
    "\n",
    "m = data.mean(axis = 0 )\n",
    "\n",
    "cov = np.cov(data,rowvar=False)\n",
    "evals , evecs = np.linalg.eigh(cov)\n",
    "\n",
    "idx = np.argsort(evals)[::-1]\n",
    "R = evecs[:,idx][:,:100]\n",
    "inertia = evals[idx]\n",
    "\n",
    "Rm =np.dot(m,R)\n",
    "respca = np.dot(data, R) - Rm"
   ]
  },
  {
   "cell_type": "code",
   "execution_count": 33,
   "metadata": {
    "collapsed": true
   },
   "outputs": [
    {
     "data": {
      "image/png": "[encoded data removed]",
      "text/plain": [
       "<Figure size 432x288 with 1 Axes>"
      ]
     },
     "metadata": {},
     "output_type": "display_data"
    }
   ],
   "source": [
    "plt.plot(inertia)\n",
    "plt.show()"
   ]
  },
  {
   "cell_type": "code",
   "execution_count": 36,
   "metadata": {},
   "outputs": [],
   "source": [
    "# Second PCA\n",
    "\n",
    "data = respca.copy()\n",
    "m2 = data.mean(axis = 0 )\n",
    "\n",
    "cov = np.cov(data,rowvar=False)\n",
    "evals , evecs = np.linalg.eigh(cov)\n",
    "\n",
    "idx = np.argsort(evals)[::-1]\n",
    "R2 = evecs[:,idx][:,:50]\n",
    "inertia = evals[idx]\n",
    "\n",
    "Rm2 =np.dot(m2,R2)\n",
    "respca = np.dot(data, R2) - Rm2"
   ]
  },
  {
   "cell_type": "code",
   "execution_count": 74,
   "metadata": {},
   "outputs": [],
   "source": [
    "# CREATION DU RESEAU DE NEURONE\n",
    "\n",
    "sess.close()\n",
    "shape = 676\n",
    "sess = tf.Session()\n",
    "\n",
    "x = tf.placeholder(tf.float32, shape=[None, shape])\n",
    "\n",
    "# XAVIER INITIALIZER\n",
    "initializer =  tf.contrib.layers.xavier_initializer()\n",
    "\n",
    "# NORMAL DISTRIBUTION\n",
    "#initializer = tf.random_normal_initializer()\n",
    "\n",
    "# ZEROS INITIALIZER\n",
    "#initializer = tf.zeros\n",
    "\n",
    "\n",
    "W1 = tf.Variable(tf.constant(R.astype(\"float32\")))\n",
    "b1 = tf.Variable(tf.constant(-Rm.astype(\"float32\")))\n",
    "\n",
    "y1 = tf.nn.sigmoid(tf.add(tf.matmul(x,W1),b1))\n",
    "\n",
    "W2 = tf.Variable(tf.constant(R2.astype(\"float32\")))\n",
    "b2 = tf.Variable(tf.constant(-Rm2.astype(\"float32\")))\n",
    "\n",
    "y2 = tf.nn.sigmoid(tf.add(tf.matmul(y1,W2),b2))\n",
    "\n",
    "W3 = tf.Variable(np.zeros([50,10]).astype(\"float32\"))\n",
    "b3 = tf.Variable(initializer([10]))\n",
    "\n",
    "y = tf.nn.softmax(tf.add(tf.matmul(y2,W3),b3))\n",
    "\n",
    "y_ = tf.placeholder(tf.float32, shape=[None, 10])\n",
    "\n",
    "cross_entropy = -tf.reduce_mean(tf.reduce_sum(y_ * tf.log(y) + (1 - y_) * tf.log(1 - y), axis=1))\n",
    "\n",
    "\n",
    "\n",
    "LEARNING_RATE = 0.1\n",
    "\n",
    "training = tf.train.GradientDescentOptimizer(LEARNING_RATE).minimize(cross_entropy)\n",
    "\n",
    "correct_prediction = tf.equal(tf.argmax(y,1), tf.argmax(y_,1))\n",
    "accuracy = tf.reduce_mean(tf.cast(correct_prediction, tf.float32))\n",
    "\n",
    "sess.run(tf.global_variables_initializer())"
   ]
  },
  {
   "cell_type": "code",
   "execution_count": 75,
   "metadata": {},
   "outputs": [
    {
     "name": "stdout",
     "output_type": "stream",
     "text": [
      "epoch :  0 / 1000, accuracy :  0.11111111, loss :  3.3007667, \n",
      "epoch :  10 / 1000, accuracy :  0.074074075, loss :  3.2444332, \n",
      "epoch :  20 / 1000, accuracy :  0.074074075, loss :  3.2392101, \n",
      "epoch :  30 / 1000, accuracy :  0.074074075, loss :  3.2368326, \n",
      "epoch :  40 / 1000, accuracy :  0.074074075, loss :  3.2345738, \n",
      "epoch :  50 / 1000, accuracy :  0.074074075, loss :  3.232286, \n",
      "epoch :  60 / 1000, accuracy :  0.074074075, loss :  3.229954, \n",
      "epoch :  70 / 1000, accuracy :  0.074074075, loss :  3.22757, \n",
      "epoch :  80 / 1000, accuracy :  0.074074075, loss :  3.2251267, \n",
      "epoch :  90 / 1000, accuracy :  0.074074075, loss :  3.2226179, \n",
      "epoch :  100 / 1000, accuracy :  0.074074075, loss :  3.2200375, \n",
      "epoch :  110 / 1000, accuracy :  0.074074075, loss :  3.2173798, \n",
      "epoch :  120 / 1000, accuracy :  0.074074075, loss :  3.2146394, \n",
      "epoch :  130 / 1000, accuracy :  0.074074075, loss :  3.2118096, \n",
      "epoch :  140 / 1000, accuracy :  0.074074075, loss :  3.2088854, \n",
      "epoch :  150 / 1000, accuracy :  0.074074075, loss :  3.20586, \n",
      "epoch :  160 / 1000, accuracy :  0.11111111, loss :  3.2027261, \n",
      "epoch :  170 / 1000, accuracy :  0.12962963, loss :  3.1994765, \n",
      "epoch :  180 / 1000, accuracy :  0.12962963, loss :  3.1961024, \n",
      "epoch :  190 / 1000, accuracy :  0.12962963, loss :  3.1925945, \n",
      "epoch :  200 / 1000, accuracy :  0.12962963, loss :  3.1889424, \n",
      "epoch :  210 / 1000, accuracy :  0.12962963, loss :  3.1851344, \n",
      "epoch :  220 / 1000, accuracy :  0.12962963, loss :  3.1811583, \n",
      "epoch :  230 / 1000, accuracy :  0.18518518, loss :  3.1770005, \n",
      "epoch :  240 / 1000, accuracy :  0.2037037, loss :  3.1726463, \n",
      "epoch :  250 / 1000, accuracy :  0.25925925, loss :  3.16808, \n",
      "epoch :  260 / 1000, accuracy :  0.25925925, loss :  3.1632843, \n",
      "epoch :  270 / 1000, accuracy :  0.2777778, loss :  3.1582408, \n",
      "epoch :  280 / 1000, accuracy :  0.2777778, loss :  3.15293, \n",
      "epoch :  290 / 1000, accuracy :  0.2962963, loss :  3.147331, \n",
      "epoch :  300 / 1000, accuracy :  0.2962963, loss :  3.141421, \n",
      "epoch :  310 / 1000, accuracy :  0.2962963, loss :  3.1351764, \n",
      "epoch :  320 / 1000, accuracy :  0.2962963, loss :  3.1285708, \n",
      "epoch :  330 / 1000, accuracy :  0.2962963, loss :  3.1215765, \n",
      "epoch :  340 / 1000, accuracy :  0.2962963, loss :  3.114165, \n",
      "epoch :  350 / 1000, accuracy :  0.2962963, loss :  3.106305, \n",
      "epoch :  360 / 1000, accuracy :  0.2962963, loss :  3.0979633, \n",
      "epoch :  370 / 1000, accuracy :  0.2962963, loss :  3.0891058, \n",
      "epoch :  380 / 1000, accuracy :  0.2962963, loss :  3.0796957, \n",
      "epoch :  390 / 1000, accuracy :  0.2962963, loss :  3.0696957, \n",
      "epoch :  400 / 1000, accuracy :  0.2962963, loss :  3.059065, \n",
      "epoch :  410 / 1000, accuracy :  0.2962963, loss :  3.0477645, \n",
      "epoch :  420 / 1000, accuracy :  0.2962963, loss :  3.0357513, \n",
      "epoch :  430 / 1000, accuracy :  0.2962963, loss :  3.0229833, \n",
      "epoch :  440 / 1000, accuracy :  0.2962963, loss :  3.0094187, \n",
      "epoch :  450 / 1000, accuracy :  0.2962963, loss :  2.9950144, \n",
      "epoch :  460 / 1000, accuracy :  0.2962963, loss :  2.9797297, \n",
      "epoch :  470 / 1000, accuracy :  0.2962963, loss :  2.963525, \n",
      "epoch :  480 / 1000, accuracy :  0.2962963, loss :  2.9463623, \n",
      "epoch :  490 / 1000, accuracy :  0.2962963, loss :  2.9282076, \n",
      "epoch :  500 / 1000, accuracy :  0.3148148, loss :  2.9090304, \n",
      "epoch :  510 / 1000, accuracy :  0.3148148, loss :  2.8888044, \n",
      "epoch :  520 / 1000, accuracy :  0.3148148, loss :  2.8675086, \n",
      "epoch :  530 / 1000, accuracy :  0.3148148, loss :  2.8451278, \n",
      "epoch :  540 / 1000, accuracy :  0.3148148, loss :  2.8216531, \n",
      "epoch :  550 / 1000, accuracy :  0.33333334, loss :  2.7970815, \n",
      "epoch :  560 / 1000, accuracy :  0.35185185, loss :  2.7714152, \n",
      "epoch :  570 / 1000, accuracy :  0.3888889, loss :  2.7446642, \n",
      "epoch :  580 / 1000, accuracy :  0.42592594, loss :  2.7168417, \n",
      "epoch :  590 / 1000, accuracy :  0.46296296, loss :  2.687966, \n",
      "epoch :  600 / 1000, accuracy :  0.46296296, loss :  2.6580584, \n",
      "epoch :  610 / 1000, accuracy :  0.5, loss :  2.6271417, \n",
      "epoch :  620 / 1000, accuracy :  0.5, loss :  2.5952399, \n",
      "epoch :  630 / 1000, accuracy :  0.5, loss :  2.5623775, \n",
      "epoch :  640 / 1000, accuracy :  0.5, loss :  2.5285773, \n",
      "epoch :  650 / 1000, accuracy :  0.5185185, loss :  2.4938626, \n",
      "epoch :  660 / 1000, accuracy :  0.5555556, loss :  2.458254, \n",
      "epoch :  670 / 1000, accuracy :  0.5925926, loss :  2.421773, \n",
      "epoch :  680 / 1000, accuracy :  0.6111111, loss :  2.3844404, \n",
      "epoch :  690 / 1000, accuracy :  0.6666667, loss :  2.3462787, \n",
      "epoch :  700 / 1000, accuracy :  0.6851852, loss :  2.3073115, \n",
      "epoch :  710 / 1000, accuracy :  0.7037037, loss :  2.2675662, \n",
      "epoch :  720 / 1000, accuracy :  0.7037037, loss :  2.2270734, \n",
      "epoch :  730 / 1000, accuracy :  0.7222222, loss :  2.1858678, \n",
      "epoch :  740 / 1000, accuracy :  0.7222222, loss :  2.1439888, \n",
      "epoch :  750 / 1000, accuracy :  0.7407407, loss :  2.10148, \n",
      "epoch :  760 / 1000, accuracy :  0.7592593, loss :  2.058388, \n",
      "epoch :  770 / 1000, accuracy :  0.7777778, loss :  2.014763, \n",
      "epoch :  780 / 1000, accuracy :  0.8148148, loss :  1.9706578, \n",
      "epoch :  790 / 1000, accuracy :  0.8148148, loss :  1.9261267, \n",
      "epoch :  800 / 1000, accuracy :  0.8148148, loss :  1.8812252, \n",
      "epoch :  810 / 1000, accuracy :  0.8518519, loss :  1.8360093, \n",
      "epoch :  820 / 1000, accuracy :  0.8518519, loss :  1.7905359, \n",
      "epoch :  830 / 1000, accuracy :  0.8703704, loss :  1.7448629, \n",
      "epoch :  840 / 1000, accuracy :  0.8888889, loss :  1.6990483, \n",
      "epoch :  850 / 1000, accuracy :  0.9074074, loss :  1.653152, \n",
      "epoch :  860 / 1000, accuracy :  0.9074074, loss :  1.6072354, \n",
      "epoch :  870 / 1000, accuracy :  0.9074074, loss :  1.5613629, \n",
      "epoch :  880 / 1000, accuracy :  0.9074074, loss :  1.5156015, \n",
      "epoch :  890 / 1000, accuracy :  0.9074074, loss :  1.4700204, \n",
      "epoch :  900 / 1000, accuracy :  0.9259259, loss :  1.4246923, \n",
      "epoch :  910 / 1000, accuracy :  0.9259259, loss :  1.3796916, \n",
      "epoch :  920 / 1000, accuracy :  0.9259259, loss :  1.3350947, \n",
      "epoch :  930 / 1000, accuracy :  0.962963, loss :  1.2909789, \n",
      "epoch :  940 / 1000, accuracy :  0.962963, loss :  1.2474213, \n",
      "epoch :  950 / 1000, accuracy :  0.962963, loss :  1.2044971, \n",
      "epoch :  960 / 1000, accuracy :  0.962963, loss :  1.16228, \n",
      "epoch :  970 / 1000, accuracy :  0.962963, loss :  1.1208395, \n",
      "epoch :  980 / 1000, accuracy :  0.962963, loss :  1.0802406, \n",
      "epoch :  990 / 1000, accuracy :  0.962963, loss :  1.0405424, \n"
     ]
    },
    {
     "data": {
      "image/png": "[encoded data removed]",
      "text/plain": [
       "<Figure size 432x288 with 1 Axes>"
      ]
     },
     "metadata": {},
     "output_type": "display_data"
    },
    {
     "data": {
      "image/png": "[encoded data removed]",
      "text/plain": [
       "<Figure size 432x288 with 1 Axes>"
      ]
     },
     "metadata": {},
     "output_type": "display_data"
    }
   ],
   "source": [
    "# TRAINING : \n",
    "\n",
    "acs = []\n",
    "ls = []\n",
    "\n",
    "number_of_epoch = 1000\n",
    "\n",
    "for i in range(number_of_epoch):\n",
    "    ac = sess.run(accuracy,feed_dict={x : X_test, y_ : y_test})\n",
    "    l = sess.run(cross_entropy,feed_dict={x : X_train, y_ : y_train})\n",
    "    sess.run(training,feed_dict={x : X_train, y_ : y_train})\n",
    "    acs.append(ac)\n",
    "    ls.append(l)\n",
    "    if(i%10 == 0):\n",
    "        print(\"epoch : \", i, \"/\", number_of_epoch, end=\", \")\n",
    "        print(\"accuracy : \" , ac, end=\", \")\n",
    "        print(\"loss : \",l , end=\", \")\n",
    "        print()\n",
    "        \n",
    "plt.plot(acs)\n",
    "plt.show()\n",
    "\n",
    "plt.plot(ls)\n",
    "plt.show()"
   ]
  },
  {
   "cell_type": "code",
   "execution_count": null,
   "metadata": {},
   "outputs": [],
   "source": []
  }
 ],
 "metadata": {
  "kernelspec": {
   "display_name": "Python 3",
   "language": "python",
   "name": "python3"
  },
  "language_info": {
   "codemirror_mode": {
    "name": "ipython",
    "version": 3
   },
   "file_extension": ".py",
   "mimetype": "text/x-python",
   "name": "python",
   "nbconvert_exporter": "python",
   "pygments_lexer": "ipython3",
   "version": "3.5.2"
  }
 },
 "nbformat": 4,
 "nbformat_minor": 2
}
