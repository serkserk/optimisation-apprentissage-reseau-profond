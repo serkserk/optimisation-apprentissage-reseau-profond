{
 "cells": [
  {
   "cell_type": "code",
   "execution_count": 1,
   "metadata": {},
   "outputs": [],
   "source": [
    "from tensorflow.examples.tutorials.mnist import input_data\n",
    "import tensorflow as tf\n",
    "import matplotlib.pyplot as plt\n",
    "import numpy as np\n",
    "import random as ran\n",
    "import pandas as pd\n",
    "from sklearn.model_selection import train_test_split"
   ]
  },
  {
   "cell_type": "code",
   "execution_count": 2,
   "metadata": {},
   "outputs": [
    {
     "name": "stdout",
     "output_type": "stream",
     "text": [
      "Number of samples in training set :  159\n",
      "Number of samples in test set :  54\n"
     ]
    }
   ],
   "source": [
    "jaffe_X = pd.read_csv(\"jaffeX.csv\",delimiter=\";\")\n",
    "jaffe_y = pd.read_csv(\"jaffeY.csv\",delimiter=\";\")\n",
    "\n",
    "jaffe_y = pd.get_dummies(jaffe_y.values.reshape([jaffe_y.shape[1]])).values +0.\n",
    "jaffe_X = jaffe_X.values/255\n",
    "\n",
    "# RANDOM SPLIT JAFFE DATASET\n",
    "\n",
    "X_train, X_test, y_train, y_test = train_test_split( jaffe_X, jaffe_y, test_size=0.25, random_state=42)\n",
    "\n",
    "print(\"Number of samples in training set : \",X_train.shape[0])\n",
    "print(\"Number of samples in test set : \",X_test.shape[0])"
   ]
  },
  {
   "cell_type": "code",
   "execution_count": null,
   "metadata": {},
   "outputs": [],
   "source": []
  },
  {
   "cell_type": "markdown",
   "metadata": {},
   "source": [
    "# PCA saving weights"
   ]
  },
  {
   "cell_type": "code",
   "execution_count": 88,
   "metadata": {},
   "outputs": [],
   "source": [
    "data = X_train.copy()\n",
    "\n",
    "m = data.mean(axis = 0 )\n",
    "\n",
    "cov = np.cov(data,rowvar=False)\n",
    "evals , evecs = np.linalg.eigh(cov)\n",
    "\n",
    "idx = np.argsort(evals)[::-1]\n",
    "R = evecs[:,idx][:,:100]\n",
    "inertia = evals[idx]\n",
    "\n",
    "Rm =np.dot(m,R)\n",
    "respca = np.dot(data, R) - Rm\n",
    "\n",
    "# Second PCA\n",
    "\n",
    "data = respca.copy()\n",
    "m2 = data.mean(axis = 0 )\n",
    "\n",
    "cov = np.cov(data,rowvar=False)\n",
    "evals , evecs = np.linalg.eigh(cov)\n",
    "\n",
    "idx = np.argsort(evals)[::-1]\n",
    "R2 = evecs[:,idx][:,:50]\n",
    "inertia = evals[idx]\n",
    "\n",
    "Rm2 =np.dot(m2,R2)\n",
    "respca = np.dot(data, R2) - Rm2"
   ]
  },
  {
   "cell_type": "markdown",
   "metadata": {},
   "source": [
    "# Neural network with PCA init"
   ]
  },
  {
   "cell_type": "code",
   "execution_count": 89,
   "metadata": {},
   "outputs": [],
   "source": [
    "# CREATION DU RESEAU DE NEURONE\n",
    "\n",
    "sess.close()\n",
    "shape = 676\n",
    "sess = tf.Session()\n",
    "\n",
    "x = tf.placeholder(tf.float32, shape=[None, shape])\n",
    "\n",
    "# XAVIER INITIALIZER\n",
    "initializer =  tf.contrib.layers.xavier_initializer()\n",
    "\n",
    "# NORMAL DISTRIBUTION\n",
    "#initializer = tf.random_normal_initializer()\n",
    "\n",
    "# ZEROS INITIALIZER\n",
    "#initializer = tf.zeros\n",
    "\n",
    "\n",
    "W1 = tf.Variable(tf.constant(R.astype(\"float32\")))\n",
    "b1 = tf.Variable(tf.constant(-Rm.astype(\"float32\")))\n",
    "\n",
    "y1 = tf.nn.sigmoid(tf.add(tf.matmul(x,W1),b1))\n",
    "\n",
    "W2 = tf.Variable(tf.constant(R2.astype(\"float32\")))\n",
    "b2 = tf.Variable(tf.constant(-Rm2.astype(\"float32\")))\n",
    "\n",
    "y2 = tf.nn.sigmoid(tf.add(tf.matmul(y1,W2),b2))\n",
    "\n",
    "W3 = tf.Variable(np.random.normal(0,1,[50,10]).astype(\"float32\"))\n",
    "b3 = tf.Variable(np.random.normal(0,1,[10]).astype(\"float32\"))\n",
    "\n",
    "y = tf.nn.softmax(tf.add(tf.matmul(y2,W3),b3))\n",
    "\n",
    "y_ = tf.placeholder(tf.float32, shape=[None, 10])\n",
    "\n",
    "cross_entropy = -tf.reduce_mean(tf.reduce_sum(y_ * tf.log(y) + (1 - y_) * tf.log(1 - y), axis=1))\n",
    "\n",
    "\n",
    "\n",
    "LEARNING_RATE = 0.1\n",
    "\n",
    "training = tf.train.GradientDescentOptimizer(LEARNING_RATE).minimize(cross_entropy)\n",
    "\n",
    "correct_prediction = tf.equal(tf.argmax(y,1), tf.argmax(y_,1))\n",
    "accuracy = tf.reduce_mean(tf.cast(correct_prediction, tf.float32))\n",
    "\n",
    "sess.run(tf.global_variables_initializer())"
   ]
  },
  {
   "cell_type": "code",
   "execution_count": 90,
   "metadata": {},
   "outputs": [
    {
     "name": "stdout",
     "output_type": "stream",
     "text": [
      "epoch :  0 / 1000, accuracy :  0.12962963, loss :  6.862105, \n",
      "epoch :  10 / 1000, accuracy :  0.37037036, loss :  3.2020912, \n",
      "epoch :  20 / 1000, accuracy :  0.44444445, loss :  2.9679728, \n",
      "epoch :  30 / 1000, accuracy :  0.5, loss :  2.811976, \n",
      "epoch :  40 / 1000, accuracy :  0.5185185, loss :  2.6345017, \n",
      "epoch :  50 / 1000, accuracy :  0.5555556, loss :  2.4370534, \n",
      "epoch :  60 / 1000, accuracy :  0.6296296, loss :  2.2290118, \n",
      "epoch :  70 / 1000, accuracy :  0.7037037, loss :  2.0198817, \n",
      "epoch :  80 / 1000, accuracy :  0.8888889, loss :  1.8177686, \n",
      "epoch :  90 / 1000, accuracy :  0.962963, loss :  1.6273779, \n",
      "epoch :  100 / 1000, accuracy :  0.962963, loss :  1.4566686, \n",
      "epoch :  110 / 1000, accuracy :  0.8888889, loss :  1.4443648, \n",
      "epoch :  120 / 1000, accuracy :  0.9259259, loss :  1.2122025, \n",
      "epoch :  130 / 1000, accuracy :  0.962963, loss :  1.0364347, \n",
      "epoch :  140 / 1000, accuracy :  0.9814815, loss :  0.89610004, \n",
      "epoch :  150 / 1000, accuracy :  0.9814815, loss :  0.7826793, \n",
      "epoch :  160 / 1000, accuracy :  0.9814815, loss :  0.6892082, \n",
      "epoch :  170 / 1000, accuracy :  1.0, loss :  0.60966575, \n",
      "epoch :  180 / 1000, accuracy :  1.0, loss :  0.54135484, \n",
      "epoch :  190 / 1000, accuracy :  1.0, loss :  0.48281616, \n",
      "epoch :  200 / 1000, accuracy :  1.0, loss :  0.43268034, \n",
      "epoch :  210 / 1000, accuracy :  1.0, loss :  0.38967237, \n",
      "epoch :  220 / 1000, accuracy :  1.0, loss :  0.35266992, \n",
      "epoch :  230 / 1000, accuracy :  1.0, loss :  0.32071403, \n",
      "epoch :  240 / 1000, accuracy :  1.0, loss :  0.29299772, \n",
      "epoch :  250 / 1000, accuracy :  1.0, loss :  0.2688485, \n",
      "epoch :  260 / 1000, accuracy :  1.0, loss :  0.24770752, \n",
      "epoch :  270 / 1000, accuracy :  1.0, loss :  0.22911131, \n",
      "epoch :  280 / 1000, accuracy :  1.0, loss :  0.21267597, \n",
      "epoch :  290 / 1000, accuracy :  1.0, loss :  0.19808285, \n",
      "epoch :  300 / 1000, accuracy :  1.0, loss :  0.18506722, \n",
      "epoch :  310 / 1000, accuracy :  1.0, loss :  0.17340876, \n",
      "epoch :  320 / 1000, accuracy :  1.0, loss :  0.16292328, \n",
      "epoch :  330 / 1000, accuracy :  1.0, loss :  0.15345632, \n",
      "epoch :  340 / 1000, accuracy :  1.0, loss :  0.14487766, \n",
      "epoch :  350 / 1000, accuracy :  1.0, loss :  0.13707733, \n",
      "epoch :  360 / 1000, accuracy :  1.0, loss :  0.12996165, \n",
      "epoch :  370 / 1000, accuracy :  1.0, loss :  0.12345084, \n",
      "epoch :  380 / 1000, accuracy :  1.0, loss :  0.11747632, \n",
      "epoch :  390 / 1000, accuracy :  1.0, loss :  0.11197901, \n",
      "epoch :  400 / 1000, accuracy :  1.0, loss :  0.10690792, \n",
      "epoch :  410 / 1000, accuracy :  1.0, loss :  0.10221871, \n",
      "epoch :  420 / 1000, accuracy :  1.0, loss :  0.09787263, \n",
      "epoch :  430 / 1000, accuracy :  1.0, loss :  0.09383588, \n",
      "epoch :  440 / 1000, accuracy :  1.0, loss :  0.09007871, \n",
      "epoch :  450 / 1000, accuracy :  1.0, loss :  0.08657497, \n",
      "epoch :  460 / 1000, accuracy :  1.0, loss :  0.083301485, \n",
      "epoch :  470 / 1000, accuracy :  1.0, loss :  0.08023772, \n",
      "epoch :  480 / 1000, accuracy :  1.0, loss :  0.07736545, \n",
      "epoch :  490 / 1000, accuracy :  1.0, loss :  0.074668296, \n",
      "epoch :  500 / 1000, accuracy :  1.0, loss :  0.07213181, \n",
      "epoch :  510 / 1000, accuracy :  1.0, loss :  0.069742866, \n",
      "epoch :  520 / 1000, accuracy :  1.0, loss :  0.06748969, \n",
      "epoch :  530 / 1000, accuracy :  1.0, loss :  0.065361835, \n",
      "epoch :  540 / 1000, accuracy :  1.0, loss :  0.0633497, \n",
      "epoch :  550 / 1000, accuracy :  1.0, loss :  0.061444584, \n",
      "epoch :  560 / 1000, accuracy :  1.0, loss :  0.05963874, \n",
      "epoch :  570 / 1000, accuracy :  1.0, loss :  0.057925027, \n",
      "epoch :  580 / 1000, accuracy :  1.0, loss :  0.05629694, \n",
      "epoch :  590 / 1000, accuracy :  1.0, loss :  0.05474865, \n",
      "epoch :  600 / 1000, accuracy :  1.0, loss :  0.053274684, \n",
      "epoch :  610 / 1000, accuracy :  1.0, loss :  0.05187015, \n",
      "epoch :  620 / 1000, accuracy :  1.0, loss :  0.0505305, \n",
      "epoch :  630 / 1000, accuracy :  1.0, loss :  0.049251575, \n",
      "epoch :  640 / 1000, accuracy :  1.0, loss :  0.048029583, \n",
      "epoch :  650 / 1000, accuracy :  1.0, loss :  0.04686101, \n",
      "epoch :  660 / 1000, accuracy :  1.0, loss :  0.04574261, \n",
      "epoch :  670 / 1000, accuracy :  1.0, loss :  0.044671323, \n",
      "epoch :  680 / 1000, accuracy :  1.0, loss :  0.04364448, \n",
      "epoch :  690 / 1000, accuracy :  1.0, loss :  0.04265947, \n",
      "epoch :  700 / 1000, accuracy :  1.0, loss :  0.041713886, \n",
      "epoch :  710 / 1000, accuracy :  1.0, loss :  0.04080556, \n",
      "epoch :  720 / 1000, accuracy :  1.0, loss :  0.039932426, \n",
      "epoch :  730 / 1000, accuracy :  1.0, loss :  0.039092608, \n",
      "epoch :  740 / 1000, accuracy :  1.0, loss :  0.03828428, \n",
      "epoch :  750 / 1000, accuracy :  1.0, loss :  0.037505828, \n",
      "epoch :  760 / 1000, accuracy :  1.0, loss :  0.036755662, \n",
      "epoch :  770 / 1000, accuracy :  1.0, loss :  0.036032375, \n",
      "epoch :  780 / 1000, accuracy :  1.0, loss :  0.03533461, \n",
      "epoch :  790 / 1000, accuracy :  1.0, loss :  0.034661066, \n",
      "epoch :  800 / 1000, accuracy :  1.0, loss :  0.03401062, \n",
      "epoch :  810 / 1000, accuracy :  1.0, loss :  0.03338211, \n",
      "epoch :  820 / 1000, accuracy :  1.0, loss :  0.032774534, \n",
      "epoch :  830 / 1000, accuracy :  1.0, loss :  0.032186855, \n",
      "epoch :  840 / 1000, accuracy :  1.0, loss :  0.03161822, \n",
      "epoch :  850 / 1000, accuracy :  1.0, loss :  0.031067697, \n",
      "epoch :  860 / 1000, accuracy :  1.0, loss :  0.030534502, \n",
      "epoch :  870 / 1000, accuracy :  1.0, loss :  0.030017868, \n",
      "epoch :  880 / 1000, accuracy :  1.0, loss :  0.029517077, \n",
      "epoch :  890 / 1000, accuracy :  1.0, loss :  0.02903141, \n",
      "epoch :  900 / 1000, accuracy :  1.0, loss :  0.02856023, \n",
      "epoch :  910 / 1000, accuracy :  1.0, loss :  0.02810294, \n",
      "epoch :  920 / 1000, accuracy :  1.0, loss :  0.027658954, \n",
      "epoch :  930 / 1000, accuracy :  1.0, loss :  0.027227728, \n",
      "epoch :  940 / 1000, accuracy :  1.0, loss :  0.026808728, \n",
      "epoch :  950 / 1000, accuracy :  1.0, loss :  0.026401477, \n",
      "epoch :  960 / 1000, accuracy :  1.0, loss :  0.026005479, \n",
      "epoch :  970 / 1000, accuracy :  1.0, loss :  0.025620326, \n",
      "epoch :  980 / 1000, accuracy :  1.0, loss :  0.025245577, \n",
      "epoch :  990 / 1000, accuracy :  1.0, loss :  0.024880836, \n"
     ]
    },
    {
     "data": {
      "image/png": "[encoded data removed]",
      "text/plain": [
       "<Figure size 432x288 with 1 Axes>"
      ]
     },
     "metadata": {},
     "output_type": "display_data"
    },
    {
     "data": {
      "image/png": "[encoded data removed]",
      "text/plain": [
       "<Figure size 432x288 with 1 Axes>"
      ]
     },
     "metadata": {},
     "output_type": "display_data"
    }
   ],
   "source": [
    "# TRAINING : \n",
    "\n",
    "acs = []\n",
    "ls = []\n",
    "\n",
    "number_of_epoch = 1000\n",
    "\n",
    "for i in range(number_of_epoch):\n",
    "    ac = sess.run(accuracy,feed_dict={x : X_test, y_ : y_test})\n",
    "    l = sess.run(cross_entropy,feed_dict={x : X_train, y_ : y_train})\n",
    "    sess.run(training,feed_dict={x : X_train, y_ : y_train})\n",
    "    acs.append(ac)\n",
    "    ls.append(l)\n",
    "    if(i%10 == 0):\n",
    "        print(\"epoch : \", i, \"/\", number_of_epoch, end=\", \")\n",
    "        print(\"accuracy : \" , ac, end=\", \")\n",
    "        print(\"loss : \",l , end=\", \")\n",
    "        print()\n",
    "        \n",
    "plt.plot(acs)\n",
    "plt.show()\n",
    "\n",
    "plt.plot(ls)\n",
    "plt.show()"
   ]
  },
  {
   "cell_type": "code",
   "execution_count": null,
   "metadata": {},
   "outputs": [],
   "source": []
  }
 ],
 "metadata": {
  "kernelspec": {
   "display_name": "Python 3",
   "language": "python",
   "name": "python3"
  },
  "language_info": {
   "codemirror_mode": {
    "name": "ipython",
    "version": 3
   },
   "file_extension": ".py",
   "mimetype": "text/x-python",
   "name": "python",
   "nbconvert_exporter": "python",
   "pygments_lexer": "ipython3",
   "version": "3.6.4"
  }
 },
 "nbformat": 4,
 "nbformat_minor": 2
}
